{
 "cells": [
  {
   "cell_type": "code",
   "execution_count": 1,
   "id": "b63e39be-0bb4-495d-93c2-3eb390d613e5",
   "metadata": {},
   "outputs": [],
   "source": [
    "i = 1\n",
    "j = 2"
   ]
  },
  {
   "cell_type": "code",
   "execution_count": 2,
   "id": "76b426f9-4fc9-4b8f-bcf2-7aa011856aac",
   "metadata": {},
   "outputs": [],
   "source": [
    "k = i + j"
   ]
  },
  {
   "cell_type": "code",
   "execution_count": 3,
   "id": "1d87c403-82a4-4bcf-b327-85e154d5b742",
   "metadata": {},
   "outputs": [
    {
     "data": {
      "text/plain": [
       "3"
      ]
     },
     "execution_count": 3,
     "metadata": {},
     "output_type": "execute_result"
    }
   ],
   "source": [
    "k"
   ]
  },
  {
   "cell_type": "markdown",
   "id": "ac5b2841-6c5e-479d-a65c-144a8fa1fec8",
   "metadata": {},
   "source": [
    "# I am a heading\n",
    "\n",
    "- I am a list\n",
    "- I am a list\n",
    "- I am the third item\n",
    "\n",
    "![](https://static.thenounproject.com/png/14830-200.png)\n",
    "\n",
    "**Bold text** "
   ]
  },
  {
   "cell_type": "code",
   "execution_count": null,
   "id": "45df95b3-0d0b-47c7-81f1-05a19152938a",
   "metadata": {},
   "outputs": [],
   "source": []
  }
 ],
 "metadata": {
  "kernelspec": {
   "display_name": "Python 3",
   "language": "python",
   "name": "python3"
  },
  "language_info": {
   "codemirror_mode": {
    "name": "ipython",
    "version": 3
   },
   "file_extension": ".py",
   "mimetype": "text/x-python",
   "name": "python",
   "nbconvert_exporter": "python",
   "pygments_lexer": "ipython3",
   "version": "3.8.8"
  }
 },
 "nbformat": 4,
 "nbformat_minor": 5
}
